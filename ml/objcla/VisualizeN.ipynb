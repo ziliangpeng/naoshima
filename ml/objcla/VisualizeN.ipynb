{
 "cells": [
  {
   "cell_type": "code",
   "execution_count": null,
   "id": "0a79319f",
   "metadata": {},
   "outputs": [],
   "source": [
    "from IPython.core.display import display, HTML\n",
    "\n",
    "display(HTML(\"<style>.container { width:100% !important; }</style>\"))\n",
    "\n"
   ]
  },
  {
   "cell_type": "code",
   "execution_count": null,
   "id": "5f57f0d9",
   "metadata": {},
   "outputs": [],
   "source": [
    "%%javascript\n",
    "IPython.OutputArea.prototype._should_scroll = function(lines) {\n",
    "    return false;\n",
    "}"
   ]
  },
  {
   "cell_type": "code",
   "execution_count": null,
   "id": "de74d46d",
   "metadata": {},
   "outputs": [],
   "source": [
    "import tensorflow as tf\n",
    "import matplotlib.pyplot as plt\n",
    "import numpy\n",
    "from loguru import logger\n",
    "import dataloader \n",
    "import numpy as np"
   ]
  },
  {
   "cell_type": "code",
   "execution_count": null,
   "id": "4eafe057",
   "metadata": {},
   "outputs": [],
   "source": [
    "import importlib\n",
    "\n",
    "import tf_models  # First, import the library\n",
    "importlib.reload(tf_models)  # Now, reload it\n"
   ]
  },
  {
   "cell_type": "code",
   "execution_count": null,
   "id": "e6c9c9a2",
   "metadata": {},
   "outputs": [],
   "source": [
    "import dataloader\n",
    "\n",
    "dataset = \"cifar10\"\n",
    "\n",
    "loader = getattr(dataloader, f\"load_{dataset}\")\n",
    "x_train, y_train, x_test, y_test = loader(onehot=True)\n",
    "\n",
    "logger.info(x_train.shape)\n",
    "logger.info(x_test.shape)\n",
    "if x_train[0].ndim == 2:\n",
    "    x_train = x_train[..., np.newaxis]\n",
    "    x_test = x_test[..., np.newaxis]\n",
    "image_shape = x_train[0].shape\n",
    "logger.info(f\"image shape: {image_shape}\")"
   ]
  },
  {
   "cell_type": "code",
   "execution_count": null,
   "id": "1c769cf2",
   "metadata": {},
   "outputs": [],
   "source": [
    "import tensorflow as tf\n",
    "from tensorflow.keras.models import Sequential\n",
    "from tensorflow.keras.layers import Dense, Flatten\n",
    "from tensorflow.keras.optimizers import SGD\n",
    "from tensorflow.keras.losses import SparseCategoricalCrossentropy\n",
    "from tensorflow.keras.losses import CategoricalCrossentropy\n",
    "import matplotlib.pyplot as plt\n",
    "import numpy as np\n",
    "import dataloader\n",
    "\n",
    "from tf_models import *\n",
    "\n",
    "model = AlexNet(image_shape, num_classes=y_train.shape[1], augmentation=True, l2_lambda=0.0002)\n",
    "\n",
    "\n"
   ]
  },
  {
   "cell_type": "code",
   "execution_count": null,
   "id": "8af59ac7",
   "metadata": {},
   "outputs": [],
   "source": [
    "optimizer = tf.keras.optimizers.legacy.Adam(learning_rate=0.001)\n",
    "#optimizer = 'adam'\n",
    "# 0.1 lr = ~12%\n",
    "# 0.01 lr = 0.2188\n",
    "\n",
    "model.compile(\n",
    "    optimizer=optimizer, loss=CategoricalCrossentropy(), metrics=[\"accuracy\"]\n",
    ")\n",
    "\n",
    "with tf.device(\"/GPU:0\"):\n",
    "    history = model.fit(\n",
    "        x_train, y_train, epochs=7, batch_size=64, validation_split=0.2\n",
    "    )\n",
    "# Evaluate the model on the test set\n",
    "# loss, accuracy = model.evaluate(x_test, y_test)\n",
    "# print(f\"Test loss: {loss:.4f}\")\n",
    "# print(f\"Test accuracy: {accuracy:.4f}\")"
   ]
  },
  {
   "cell_type": "code",
   "execution_count": null,
   "id": "57c9b514",
   "metadata": {},
   "outputs": [],
   "source": [
    "model.save('viz.keras')"
   ]
  },
  {
   "cell_type": "code",
   "execution_count": null,
   "id": "b994053a",
   "metadata": {},
   "outputs": [],
   "source": [
    "#model.load_weights('viz.keras')"
   ]
  },
  {
   "cell_type": "code",
   "execution_count": null,
   "id": "92bd7d9e",
   "metadata": {},
   "outputs": [],
   "source": [
    "# find the right index for category X\n",
    "from collections import defaultdict\n",
    "import random\n",
    "\n",
    "m = defaultdict(list)\n",
    "for i, y in enumerate(y_train):\n",
    "    y = np.argmax(y)\n",
    "    m[y].append(i)\n",
    "    \n",
    "for i in range(10):\n",
    "    random.shuffle(m[i])\n",
    "    print(i, m[i][:3])"
   ]
  },
  {
   "cell_type": "code",
   "execution_count": null,
   "id": "cbeb5167",
   "metadata": {},
   "outputs": [],
   "source": [
    "# CNN viz\n",
    "import math\n",
    "from viz import vizn_1d, vizn_3d\n",
    "\n",
    "\n",
    "img_index = [m[5][0],m[5][1],m[8][0],m[8][1]]\n",
    "n = len(img_index)\n",
    "\n",
    "img = x_train[img_index]\n",
    "label = y_train[img_index]\n",
    "input = x_train[img_index]\n",
    "\n",
    "fig, imgxs = plt.subplots(1, n, figsize=(10, 5))\n",
    "print(imgxs)\n",
    "for i in range(n):\n",
    "    imgxs[i].imshow(img[i], cmap='viridis')\n",
    "plt.show()\n",
    "\n",
    "ls = model.layers\n",
    "os = []\n",
    "o = input\n",
    "for l in ls:\n",
    "    o = l(o, training=False)\n",
    "    os.append(o)\n",
    "    logger.info(o.shape)\n",
    "    logger.info(l.name)\n",
    "    if o.ndim == 2:\n",
    "        vizn_1d(o)\n",
    "    if o.ndim == 4:\n",
    "        vizn_3d(o)\n",
    "        #vizn_3d(o[:,:,:,0:1])\n",
    "        #logger.info(o[0:1,:,:,1:2])\n",
    "        #logger.info(l.weights)\n",
    "        pass\n",
    "#logger.info(o)\n",
    "\n",
    "logger.info([np.argmax(la) for la in label])\n",
    "logger.info([np.argmax(oi) for oi in o])"
   ]
  },
  {
   "cell_type": "code",
   "execution_count": null,
   "id": "5944393c",
   "metadata": {},
   "outputs": [],
   "source": []
  }
 ],
 "metadata": {
  "kernelspec": {
   "display_name": "Python 3",
   "language": "python",
   "name": "python3"
  },
  "language_info": {
   "codemirror_mode": {
    "name": "ipython",
    "version": 3
   },
   "file_extension": ".py",
   "mimetype": "text/x-python",
   "name": "python",
   "nbconvert_exporter": "python",
   "pygments_lexer": "ipython3",
   "version": "3.10.12"
  }
 },
 "nbformat": 4,
 "nbformat_minor": 5
}
