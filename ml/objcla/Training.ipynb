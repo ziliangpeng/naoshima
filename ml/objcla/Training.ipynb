{
 "cells": [
  {
   "cell_type": "code",
   "execution_count": 1,
   "id": "dcad7fe8-7ecf-4fac-9524-caa17abbad62",
   "metadata": {},
   "outputs": [
    {
     "name": "stderr",
     "output_type": "stream",
     "text": [
      "2023-10-08 06:12:03.869882: I tensorflow/core/platform/cpu_feature_guard.cc:182] This TensorFlow binary is optimized to use available CPU instructions in performance-critical operations.\n",
      "To enable the following instructions: AVX2 FMA, in other operations, rebuild TensorFlow with the appropriate compiler flags.\n"
     ]
    }
   ],
   "source": [
    "from tf_models import ResNet"
   ]
  },
  {
   "cell_type": "code",
   "execution_count": 2,
   "id": "18084ee2-4039-449a-a132-2bb6d8d2694a",
   "metadata": {},
   "outputs": [
    {
     "data": {
      "text/plain": [
       "<module 'tf_models' from '/home/zpeng/naoshima/ml/objcla/tf_models.py'>"
      ]
     },
     "execution_count": 2,
     "metadata": {},
     "output_type": "execute_result"
    }
   ],
   "source": [
    "import importlib\n",
    "\n",
    "import tf_models  # First, import the library\n",
    "importlib.reload(tf_models)  # Now, reload it\n"
   ]
  },
  {
   "cell_type": "code",
   "execution_count": 3,
   "id": "8325d201-841f-4730-86d8-fd447729f36a",
   "metadata": {},
   "outputs": [
    {
     "name": "stderr",
     "output_type": "stream",
     "text": [
      "\u001b[32m2023-10-08 06:12:07.571\u001b[0m | \u001b[1mINFO    \u001b[0m | \u001b[36mdataloader\u001b[0m:\u001b[36m_load_keras\u001b[0m:\u001b[36m30\u001b[0m - \u001b[1mUsing cifar10 dataset\u001b[0m\n",
      "\u001b[32m2023-10-08 06:12:07.572\u001b[0m | \u001b[1mINFO    \u001b[0m | \u001b[36mdataloader\u001b[0m:\u001b[36m_load_keras\u001b[0m:\u001b[36m33\u001b[0m - \u001b[1mThe size is 50000\u001b[0m\n",
      "\u001b[32m2023-10-08 06:12:07.572\u001b[0m | \u001b[1mINFO    \u001b[0m | \u001b[36mdataloader\u001b[0m:\u001b[36m_load_keras\u001b[0m:\u001b[36m34\u001b[0m - \u001b[1mThe shape is: (32, 32, 3)\u001b[0m\n",
      "2023-10-08 06:12:08.325463: I tensorflow/compiler/xla/stream_executor/cuda/cuda_gpu_executor.cc:995] successful NUMA node read from SysFS had negative value (-1), but there must be at least one NUMA node, so returning NUMA node zero. See more at https://github.com/torvalds/linux/blob/v6.0/Documentation/ABI/testing/sysfs-bus-pci#L344-L355\n",
      "2023-10-08 06:12:08.336693: I tensorflow/compiler/xla/stream_executor/cuda/cuda_gpu_executor.cc:995] successful NUMA node read from SysFS had negative value (-1), but there must be at least one NUMA node, so returning NUMA node zero. See more at https://github.com/torvalds/linux/blob/v6.0/Documentation/ABI/testing/sysfs-bus-pci#L344-L355\n",
      "2023-10-08 06:12:08.339505: I tensorflow/compiler/xla/stream_executor/cuda/cuda_gpu_executor.cc:995] successful NUMA node read from SysFS had negative value (-1), but there must be at least one NUMA node, so returning NUMA node zero. See more at https://github.com/torvalds/linux/blob/v6.0/Documentation/ABI/testing/sysfs-bus-pci#L344-L355\n",
      "2023-10-08 06:12:08.343515: I tensorflow/compiler/xla/stream_executor/cuda/cuda_gpu_executor.cc:995] successful NUMA node read from SysFS had negative value (-1), but there must be at least one NUMA node, so returning NUMA node zero. See more at https://github.com/torvalds/linux/blob/v6.0/Documentation/ABI/testing/sysfs-bus-pci#L344-L355\n",
      "2023-10-08 06:12:08.346373: I tensorflow/compiler/xla/stream_executor/cuda/cuda_gpu_executor.cc:995] successful NUMA node read from SysFS had negative value (-1), but there must be at least one NUMA node, so returning NUMA node zero. See more at https://github.com/torvalds/linux/blob/v6.0/Documentation/ABI/testing/sysfs-bus-pci#L344-L355\n",
      "2023-10-08 06:12:08.349064: I tensorflow/compiler/xla/stream_executor/cuda/cuda_gpu_executor.cc:995] successful NUMA node read from SysFS had negative value (-1), but there must be at least one NUMA node, so returning NUMA node zero. See more at https://github.com/torvalds/linux/blob/v6.0/Documentation/ABI/testing/sysfs-bus-pci#L344-L355\n",
      "2023-10-08 06:12:09.279563: I tensorflow/compiler/xla/stream_executor/cuda/cuda_gpu_executor.cc:995] successful NUMA node read from SysFS had negative value (-1), but there must be at least one NUMA node, so returning NUMA node zero. See more at https://github.com/torvalds/linux/blob/v6.0/Documentation/ABI/testing/sysfs-bus-pci#L344-L355\n",
      "2023-10-08 06:12:09.281679: I tensorflow/compiler/xla/stream_executor/cuda/cuda_gpu_executor.cc:995] successful NUMA node read from SysFS had negative value (-1), but there must be at least one NUMA node, so returning NUMA node zero. See more at https://github.com/torvalds/linux/blob/v6.0/Documentation/ABI/testing/sysfs-bus-pci#L344-L355\n",
      "2023-10-08 06:12:09.283409: I tensorflow/compiler/xla/stream_executor/cuda/cuda_gpu_executor.cc:995] successful NUMA node read from SysFS had negative value (-1), but there must be at least one NUMA node, so returning NUMA node zero. See more at https://github.com/torvalds/linux/blob/v6.0/Documentation/ABI/testing/sysfs-bus-pci#L344-L355\n",
      "2023-10-08 06:12:09.285099: I tensorflow/core/common_runtime/gpu/gpu_device.cc:1639] Created device /job:localhost/replica:0/task:0/device:GPU:0 with 13591 MB memory:  -> device: 0, name: Tesla T4, pci bus id: 0000:00:04.0, compute capability: 7.5\n"
     ]
    }
   ],
   "source": [
    "import click\n",
    "\n",
    "import tensorflow as tf\n",
    "from tensorflow.keras.models import Sequential\n",
    "from tensorflow.keras.layers import Dense, Flatten\n",
    "from tensorflow.keras.optimizers import SGD\n",
    "from tensorflow.keras.losses import SparseCategoricalCrossentropy\n",
    "from tensorflow.keras.losses import CategoricalCrossentropy\n",
    "import matplotlib.pyplot as plt\n",
    "import numpy as np\n",
    "import dataloader\n",
    "\n",
    "from tf_models import *\n",
    "\n",
    "\n",
    "dataset = 'cifar10'\n",
    "\n",
    "\n",
    "loader = getattr(dataloader, f\"load_{dataset}\")\n",
    "x_train, y_train, x_test, y_test = loader(onehot=True)\n",
    "\n",
    "if x_train[0].ndim == 2:\n",
    "    x_train = x_train[..., np.newaxis]\n",
    "    x_test = x_test[..., np.newaxis]\n",
    "image_shape = x_train[0].shape  # (28, 28)\n",
    "\n",
    "model = ResNet(image_shape, num_classes=y_train.shape[1], l2_lambda=4e-3)\n",
    "\n",
    "model.compile(\n",
    "    optimizer=\"adam\", loss=CategoricalCrossentropy(), metrics=[\"accuracy\"]\n",
    ")\n"
   ]
  },
  {
   "cell_type": "code",
   "execution_count": null,
   "id": "ebc08d8d-a472-4422-a4bb-b946abfa2a31",
   "metadata": {},
   "outputs": [
    {
     "name": "stdout",
     "output_type": "stream",
     "text": [
      "Epoch 1/4\n"
     ]
    },
    {
     "name": "stderr",
     "output_type": "stream",
     "text": [
      "2023-10-08 06:12:14.996860: E tensorflow/core/grappler/optimizers/meta_optimizer.cc:954] layout failed: INVALID_ARGUMENT: Size of values 0 does not match size of permutation 4 @ fanin shape inmodel/dropout/dropout/SelectV2-2-TransposeNHWCToNCHW-LayoutOptimizer\n",
      "2023-10-08 06:12:16.420127: I tensorflow/compiler/xla/stream_executor/cuda/cuda_dnn.cc:432] Loaded cuDNN version 8900\n",
      "2023-10-08 06:12:17.146334: I tensorflow/tsl/platform/default/subprocess.cc:304] Start cannot spawn child process: No such file or directory\n",
      "2023-10-08 06:12:17.694903: I tensorflow/compiler/xla/service/service.cc:168] XLA service 0x7f19ab1e6a90 initialized for platform CUDA (this does not guarantee that XLA will be used). Devices:\n",
      "2023-10-08 06:12:17.694941: I tensorflow/compiler/xla/service/service.cc:176]   StreamExecutor device (0): Tesla T4, Compute Capability 7.5\n",
      "2023-10-08 06:12:17.701359: I tensorflow/compiler/mlir/tensorflow/utils/dump_mlir_util.cc:255] disabling MLIR crash reproducer, set env var `MLIR_CRASH_REPRODUCER_DIRECTORY` to enable.\n",
      "2023-10-08 06:12:17.778016: I tensorflow/tsl/platform/default/subprocess.cc:304] Start cannot spawn child process: No such file or directory\n",
      "2023-10-08 06:12:17.837583: I ./tensorflow/compiler/jit/device_compiler.h:186] Compiled cluster using XLA!  This line is logged at most once for the lifetime of the process.\n"
     ]
    },
    {
     "name": "stdout",
     "output_type": "stream",
     "text": [
      "625/625 [==============================] - 59s 72ms/step - loss: 5.7952 - accuracy: 0.4719 - val_loss: 3.5800 - val_accuracy: 0.2149\n",
      "Epoch 2/4\n",
      "625/625 [==============================] - 44s 70ms/step - loss: 1.8704 - accuracy: 0.5708 - val_loss: 2.8440 - val_accuracy: 0.3077\n",
      "Epoch 3/4\n",
      "625/625 [==============================] - 44s 70ms/step - loss: 1.6614 - accuracy: 0.5973 - val_loss: 2.2713 - val_accuracy: 0.4327\n",
      "Epoch 4/4\n",
      "625/625 [==============================] - 44s 70ms/step - loss: 1.5850 - accuracy: 0.6158 - val_loss: 2.1362 - val_accuracy: 0.4756\n",
      "313/313 [==============================] - 3s 9ms/step - loss: 2.1390 - accuracy: 0.4682\n",
      "Test loss: 2.1390\n",
      "Test accuracy: 0.4682\n",
      "Epoch 1/4\n",
      "625/625 [==============================] - 44s 71ms/step - loss: 1.5124 - accuracy: 0.6363 - val_loss: 1.7442 - val_accuracy: 0.5307\n",
      "Epoch 2/4\n",
      "625/625 [==============================] - 44s 70ms/step - loss: 1.4425 - accuracy: 0.6542 - val_loss: 2.0594 - val_accuracy: 0.4927\n",
      "Epoch 3/4\n",
      "625/625 [==============================] - 44s 70ms/step - loss: 1.4001 - accuracy: 0.6663 - val_loss: 1.6841 - val_accuracy: 0.5572\n",
      "Epoch 4/4\n",
      "625/625 [==============================] - 44s 70ms/step - loss: 1.3520 - accuracy: 0.6796 - val_loss: 1.6296 - val_accuracy: 0.5741\n",
      "313/313 [==============================] - 3s 9ms/step - loss: 1.6390 - accuracy: 0.5707\n",
      "Test loss: 1.6390\n",
      "Test accuracy: 0.5707\n",
      "Epoch 1/4\n",
      "625/625 [==============================] - 44s 70ms/step - loss: 1.3003 - accuracy: 0.6955 - val_loss: 1.6977 - val_accuracy: 0.5534\n",
      "Epoch 2/4\n",
      "625/625 [==============================] - 44s 70ms/step - loss: 1.2657 - accuracy: 0.7050 - val_loss: 1.6845 - val_accuracy: 0.5577\n",
      "Epoch 3/4\n",
      "625/625 [==============================] - 44s 70ms/step - loss: 1.2167 - accuracy: 0.7175 - val_loss: 1.3105 - val_accuracy: 0.6882\n",
      "Epoch 4/4\n",
      "625/625 [==============================] - 44s 70ms/step - loss: 1.1824 - accuracy: 0.7274 - val_loss: 1.5301 - val_accuracy: 0.6105\n",
      "313/313 [==============================] - 3s 9ms/step - loss: 1.5346 - accuracy: 0.6033\n",
      "Test loss: 1.5346\n",
      "Test accuracy: 0.6033\n",
      "Epoch 1/4\n",
      "625/625 [==============================] - 44s 70ms/step - loss: 1.1538 - accuracy: 0.7307 - val_loss: 1.3818 - val_accuracy: 0.6548\n",
      "Epoch 2/4\n",
      "625/625 [==============================] - 43s 69ms/step - loss: 1.1254 - accuracy: 0.7382 - val_loss: 1.8056 - val_accuracy: 0.4919\n",
      "Epoch 3/4\n",
      "625/625 [==============================] - 43s 70ms/step - loss: 1.1073 - accuracy: 0.7428 - val_loss: 1.3519 - val_accuracy: 0.6633\n",
      "Epoch 4/4\n",
      "625/625 [==============================] - 43s 69ms/step - loss: 1.0896 - accuracy: 0.7473 - val_loss: 1.7489 - val_accuracy: 0.5641\n",
      "313/313 [==============================] - 3s 9ms/step - loss: 1.7580 - accuracy: 0.5542\n",
      "Test loss: 1.7580\n",
      "Test accuracy: 0.5542\n",
      "Epoch 1/4\n",
      "625/625 [==============================] - 44s 70ms/step - loss: 1.0755 - accuracy: 0.7505 - val_loss: 1.4974 - val_accuracy: 0.6112\n",
      "Epoch 2/4\n",
      "625/625 [==============================] - 43s 69ms/step - loss: 1.0606 - accuracy: 0.7544 - val_loss: 1.6453 - val_accuracy: 0.5423\n",
      "Epoch 3/4\n",
      "625/625 [==============================] - 43s 69ms/step - loss: 1.0462 - accuracy: 0.7574 - val_loss: 1.2998 - val_accuracy: 0.6827\n",
      "Epoch 4/4\n",
      "625/625 [==============================] - 43s 69ms/step - loss: 1.0300 - accuracy: 0.7620 - val_loss: 1.6040 - val_accuracy: 0.5837\n",
      "313/313 [==============================] - 3s 9ms/step - loss: 1.6315 - accuracy: 0.5744\n",
      "Test loss: 1.6315\n",
      "Test accuracy: 0.5744\n",
      "Epoch 1/4\n",
      "625/625 [==============================] - 43s 69ms/step - loss: 1.0335 - accuracy: 0.7639 - val_loss: 1.3576 - val_accuracy: 0.6456\n",
      "Epoch 2/4\n",
      "625/625 [==============================] - 43s 69ms/step - loss: 1.0155 - accuracy: 0.7680 - val_loss: 1.7034 - val_accuracy: 0.5700\n",
      "Epoch 3/4\n",
      "625/625 [==============================] - 43s 69ms/step - loss: 1.0117 - accuracy: 0.7665 - val_loss: 1.5040 - val_accuracy: 0.6474\n",
      "Epoch 4/4\n",
      "625/625 [==============================] - 43s 69ms/step - loss: 1.0016 - accuracy: 0.7678 - val_loss: 1.1060 - val_accuracy: 0.7436\n",
      "313/313 [==============================] - 3s 9ms/step - loss: 1.1230 - accuracy: 0.7329\n",
      "Test loss: 1.1230\n",
      "Test accuracy: 0.7329\n",
      "Epoch 1/4\n",
      "625/625 [==============================] - 43s 69ms/step - loss: 0.9942 - accuracy: 0.7728 - val_loss: 1.6219 - val_accuracy: 0.5860\n",
      "Epoch 2/4\n",
      "625/625 [==============================] - 43s 69ms/step - loss: 0.9943 - accuracy: 0.7735 - val_loss: 1.7044 - val_accuracy: 0.5658\n",
      "Epoch 3/4\n",
      "625/625 [==============================] - 43s 69ms/step - loss: 0.9949 - accuracy: 0.7728 - val_loss: 1.1256 - val_accuracy: 0.7197\n",
      "Epoch 4/4\n",
      "625/625 [==============================] - 43s 69ms/step - loss: 0.9758 - accuracy: 0.7765 - val_loss: 1.2394 - val_accuracy: 0.7068\n",
      "313/313 [==============================] - 3s 9ms/step - loss: 1.2423 - accuracy: 0.7082\n",
      "Test loss: 1.2423\n",
      "Test accuracy: 0.7082\n",
      "Epoch 1/4\n",
      "625/625 [==============================] - 43s 69ms/step - loss: 0.9792 - accuracy: 0.7763 - val_loss: 1.3784 - val_accuracy: 0.6581\n",
      "Epoch 2/4\n",
      "625/625 [==============================] - 43s 69ms/step - loss: 0.9680 - accuracy: 0.7794 - val_loss: 1.6807 - val_accuracy: 0.6121\n",
      "Epoch 3/4\n",
      "625/625 [==============================] - 43s 69ms/step - loss: 0.9638 - accuracy: 0.7826 - val_loss: 1.0446 - val_accuracy: 0.7574\n",
      "Epoch 4/4\n",
      "625/625 [==============================] - 43s 69ms/step - loss: 0.9694 - accuracy: 0.7788 - val_loss: 1.2724 - val_accuracy: 0.6867\n",
      "313/313 [==============================] - 3s 9ms/step - loss: 1.2901 - accuracy: 0.6783\n",
      "Test loss: 1.2901\n",
      "Test accuracy: 0.6783\n",
      "Epoch 1/4\n",
      "625/625 [==============================] - 43s 69ms/step - loss: 0.9614 - accuracy: 0.7790 - val_loss: 1.3435 - val_accuracy: 0.6669\n",
      "Epoch 2/4\n",
      "625/625 [==============================] - 43s 69ms/step - loss: 0.9560 - accuracy: 0.7842 - val_loss: 1.9180 - val_accuracy: 0.5592\n",
      "Epoch 3/4\n",
      "625/625 [==============================] - 43s 69ms/step - loss: 0.9473 - accuracy: 0.7867 - val_loss: 1.1006 - val_accuracy: 0.7271\n",
      "Epoch 4/4\n",
      "625/625 [==============================] - 43s 69ms/step - loss: 0.9422 - accuracy: 0.7885 - val_loss: 1.1910 - val_accuracy: 0.7000\n",
      "313/313 [==============================] - 3s 9ms/step - loss: 1.1984 - accuracy: 0.7023\n",
      "Test loss: 1.1984\n",
      "Test accuracy: 0.7023\n",
      "Epoch 1/4\n",
      "625/625 [==============================] - 43s 69ms/step - loss: 0.9458 - accuracy: 0.7845 - val_loss: 1.3780 - val_accuracy: 0.6698\n",
      "Epoch 2/4\n",
      "  5/625 [..............................] - ETA: 40s - loss: 0.9259 - accuracy: 0.7875"
     ]
    }
   ],
   "source": [
    "\n",
    "for i in range(10):\n",
    "    with tf.device(\"/GPU:0\"):\n",
    "        history = model.fit(\n",
    "            x_train, y_train, epochs=4, batch_size=64, validation_split=0.2\n",
    "        )\n",
    "        model.save(f'{dataset}-viz.keras')\n",
    "\n",
    "    # Evaluate the model on the test set\n",
    "    loss, accuracy = model.evaluate(x_test, y_test)\n",
    "    print(f\"Test loss: {loss:.4f}\")\n",
    "    print(f\"Test accuracy: {accuracy:.4f}\")"
   ]
  },
  {
   "cell_type": "code",
   "execution_count": null,
   "id": "c571a02c-fab9-4641-b2d0-075f82114276",
   "metadata": {},
   "outputs": [],
   "source": [
    "model.save(f'{dataset}-viz.keras')"
   ]
  }
 ],
 "metadata": {
  "kernelspec": {
   "display_name": "Python 3",
   "language": "python",
   "name": "python3"
  },
  "language_info": {
   "codemirror_mode": {
    "name": "ipython",
    "version": 3
   },
   "file_extension": ".py",
   "mimetype": "text/x-python",
   "name": "python",
   "nbconvert_exporter": "python",
   "pygments_lexer": "ipython3",
   "version": "3.10.12"
  }
 },
 "nbformat": 4,
 "nbformat_minor": 5
}
