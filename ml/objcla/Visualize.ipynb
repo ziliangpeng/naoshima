{
 "cells": [
  {
   "cell_type": "code",
   "execution_count": null,
   "id": "0a79319f",
   "metadata": {},
   "outputs": [],
   "source": [
    "from IPython.core.display import display, HTML\n",
    "\n",
    "display(HTML(\"<style>.container { width:100% !important; }</style>\"))\n",
    "\n"
   ]
  },
  {
   "cell_type": "code",
   "execution_count": null,
   "id": "5f57f0d9",
   "metadata": {},
   "outputs": [],
   "source": [
    "%%javascript\n",
    "IPython.OutputArea.prototype._should_scroll = function(lines) {\n",
    "    return false;\n",
    "}"
   ]
  },
  {
   "cell_type": "code",
   "execution_count": null,
   "id": "de74d46d",
   "metadata": {},
   "outputs": [],
   "source": [
    "import tensorflow as tf\n",
    "import matplotlib.pyplot as plt\n",
    "import numpy\n",
    "from loguru import logger\n",
    "import dataloader \n",
    "import numpy as np"
   ]
  },
  {
   "cell_type": "code",
   "execution_count": null,
   "id": "4eafe057",
   "metadata": {},
   "outputs": [],
   "source": [
    "import importlib\n",
    "\n",
    "import tf_models  # First, import the library\n",
    "importlib.reload(tf_models)  # Now, reload it\n"
   ]
  },
  {
   "cell_type": "code",
   "execution_count": null,
   "id": "e6c9c9a2",
   "metadata": {},
   "outputs": [],
   "source": [
    "import dataloader\n",
    "# no onehot\n",
    "x_train, y_train, x_test, y_test = dataloader.load_cifar10(onehot=True)\n",
    "# if X_train.ndim == 3:\n",
    "#     X_train = X_train[...,np.newaxis]\n",
    "#     X_test = X_test[...,np.newaxis]\n",
    "logger.info(x_train.shape)\n",
    "logger.info(x_test.shape)"
   ]
  },
  {
   "cell_type": "code",
   "execution_count": null,
   "id": "1c769cf2",
   "metadata": {},
   "outputs": [],
   "source": [
    "import tensorflow as tf\n",
    "from tensorflow.keras.models import Sequential\n",
    "from tensorflow.keras.layers import Dense, Flatten\n",
    "from tensorflow.keras.optimizers import SGD\n",
    "from tensorflow.keras.losses import SparseCategoricalCrossentropy\n",
    "from tensorflow.keras.losses import CategoricalCrossentropy\n",
    "import matplotlib.pyplot as plt\n",
    "import numpy as np\n",
    "import dataloader\n",
    "\n",
    "from tf_models import *\n",
    "\n",
    "# dataset = \"mnist\"\n",
    "\n",
    "# loader = getattr(dataloader, f\"load_{dataset}\")\n",
    "# x_train, y_train, x_test, y_test = loader(onehot=True)\n",
    "\n",
    "if x_train[0].ndim == 2:\n",
    "    x_train = x_train[..., np.newaxis]\n",
    "    x_test = x_test[..., np.newaxis]\n",
    "image_shape = x_train[0].shape\n",
    "logger.info(f\"image shape: {image_shape}\")\n",
    "\n",
    "model = AlexNet(image_shape, num_classes=y_train.shape[1])\n",
    "\n",
    "model.compile(\n",
    "    optimizer=\"adam\", loss=CategoricalCrossentropy(), metrics=[\"accuracy\"]\n",
    ")\n"
   ]
  },
  {
   "cell_type": "code",
   "execution_count": null,
   "id": "8af59ac7",
   "metadata": {},
   "outputs": [],
   "source": [
    "with tf.device(\"/GPU:0\"):\n",
    "    history = model.fit(\n",
    "        x_train, y_train, epochs=3, batch_size=64, validation_split=0.2\n",
    "    )\n",
    "# Evaluate the model on the test set\n",
    "# loss, accuracy = model.evaluate(x_test, y_test)\n",
    "# print(f\"Test loss: {loss:.4f}\")\n",
    "# print(f\"Test accuracy: {accuracy:.4f}\")"
   ]
  },
  {
   "cell_type": "code",
   "execution_count": null,
   "id": "57c9b514",
   "metadata": {},
   "outputs": [],
   "source": [
    "# model.save('viz.h5')\n",
    "model.save('viz.keras')"
   ]
  },
  {
   "cell_type": "code",
   "execution_count": null,
   "id": "b994053a",
   "metadata": {},
   "outputs": [],
   "source": [
    "from tensorflow.keras.models import load_model\n",
    "\n",
    "model = load_model('viz.h5')  # Load from HDF5 format"
   ]
  },
  {
   "cell_type": "code",
   "execution_count": null,
   "id": "cbeb5167",
   "metadata": {},
   "outputs": [],
   "source": [
    "# CNN viz\n",
    "import math\n",
    "from viz import viz_1d, viz_3d\n",
    "\n",
    "img_index = 507\n",
    "\n",
    "img = X_train[img_index]\n",
    "label = y_train[img_index]\n",
    "input = X_train[img_index:img_index+1,]\n",
    "\n",
    "plt.imshow(img, cmap='viridis')\n",
    "plt.show()\n",
    "\n",
    "ls = model.layers\n",
    "os = []\n",
    "o = input\n",
    "assert input.shape[0] == 1\n",
    "for l in ls:\n",
    "    o = l(o)\n",
    "    os.append(o)\n",
    "    logger.info(o.shape)\n",
    "    logger.info(l.name)\n",
    "    if o.ndim == 2:\n",
    "        viz_1d(o)\n",
    "    if o.ndim == 4:\n",
    "        viz_3d(o)\n",
    "logger.info(o)\n",
    "\n",
    "logger.info(np.argmax(label))\n",
    "logger.info(np.argmax(o))"
   ]
  },
  {
   "cell_type": "code",
   "execution_count": null,
   "id": "19d8d082",
   "metadata": {},
   "outputs": [],
   "source": [
    "from IPython.display import clear_output\n",
    "clear_output(wait=True)"
   ]
  },
  {
   "cell_type": "code",
   "execution_count": null,
   "id": "454903f3",
   "metadata": {},
   "outputs": [],
   "source": []
  }
 ],
 "metadata": {
  "kernelspec": {
   "display_name": "Python 3 (ipykernel)",
   "language": "python",
   "name": "python3"
  },
  "language_info": {
   "codemirror_mode": {
    "name": "ipython",
    "version": 3
   },
   "file_extension": ".py",
   "mimetype": "text/x-python",
   "name": "python",
   "nbconvert_exporter": "python",
   "pygments_lexer": "ipython3",
   "version": "3.11.3"
  }
 },
 "nbformat": 4,
 "nbformat_minor": 5
}
