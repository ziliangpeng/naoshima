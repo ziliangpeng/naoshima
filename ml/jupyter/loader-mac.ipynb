{
 "cells": [
  {
   "cell_type": "code",
   "execution_count": 16,
   "id": "6a0cbf05-8fdf-4f40-b15e-7289ddbd374a",
   "metadata": {},
   "outputs": [
    {
     "name": "stdout",
     "output_type": "stream",
     "text": [
      "Dataset({\n",
      "    features: ['image', 'label'],\n",
      "    num_rows: 60000\n",
      "})\n",
      "<PIL.PngImagePlugin.PngImageFile image mode=L size=28x28 at 0x1308A3410>\n",
      "[<PIL.PngImagePlugin.PngImageFile image mode=L size=28x28 at 0x16C93D4D0>]\n"
     ]
    },
    {
     "ename": "TypeError",
     "evalue": "'PngImageFile' object is not subscriptable",
     "output_type": "error",
     "traceback": [
      "\u001b[0;31m---------------------------------------------------------------------------\u001b[0m",
      "\u001b[0;31mTypeError\u001b[0m                                 Traceback (most recent call last)",
      "Cell \u001b[0;32mIn[16], line 19\u001b[0m\n\u001b[1;32m     17\u001b[0m d \u001b[38;5;241m=\u001b[39m train_data[data_name][\u001b[38;5;241m0\u001b[39m:\u001b[38;5;241m1\u001b[39m]\n\u001b[1;32m     18\u001b[0m \u001b[38;5;28mprint\u001b[39m(d)\n\u001b[0;32m---> 19\u001b[0m \u001b[38;5;28mprint\u001b[39m(\u001b[43md\u001b[49m\u001b[43m[\u001b[49m\u001b[38;5;241;43m0\u001b[39;49m\u001b[43m]\u001b[49m\u001b[43m[\u001b[49m\u001b[38;5;241;43m0\u001b[39;49m\u001b[43m]\u001b[49m)\n\u001b[1;32m     20\u001b[0m np\u001b[38;5;241m.\u001b[39marray(d)\n\u001b[1;32m     21\u001b[0m \u001b[38;5;66;03m# x_train, x_test = np.array(train_data[data_name]) / 255.0, np.array(test_data[data_name]) / 255.0\u001b[39;00m\n\u001b[1;32m     22\u001b[0m \u001b[38;5;66;03m# y_train, y_test = np.array(train_data[label_name]), np.array(test_data[label_name])\u001b[39;00m\n",
      "\u001b[0;31mTypeError\u001b[0m: 'PngImageFile' object is not subscriptable"
     ]
    }
   ],
   "source": [
    "from loguru import logger\n",
    "from functools import partial\n",
    "from datasets import load_dataset\n",
    "import numpy as np\n",
    "\n",
    "name = \"mnist\"\n",
    "dataset = load_dataset(name)\n",
    "train_data, test_data = dataset[\"train\"], dataset[\"test\"]\n",
    "\n",
    "# \"image\" for mnist and fashion_mnist, \"img\" for cifar10 and cifar100\n",
    "data_name = \"img\" in train_data.column_names and \"img\" or \"image\"\n",
    "# \"label\" for mnist, fashion_mnist, and cifar10, \"coarse_label\" or \"fine_label\" for cifar100\n",
    "label_name = \"label\" in train_data.column_names and \"label\" or \"coarse_label\"\n",
    "\n",
    "print(train_data)\n",
    "print(train_data[data_name][0])\n",
    "d = train_data[data_name][0:1]\n",
    "print(d)\n",
    "print(d[0][0])\n",
    "np.array(d)\n",
    "# x_train, x_test = np.array(train_data[data_name]) / 255.0, np.array(test_data[data_name]) / 255.0\n",
    "# y_train, y_test = np.array(train_data[label_name]), np.array(test_data[label_name])\n"
   ]
  },
  {
   "cell_type": "code",
   "execution_count": null,
   "id": "d2e578d1-a1ab-4fa7-bac6-98137ae0ce3a",
   "metadata": {},
   "outputs": [],
   "source": []
  }
 ],
 "metadata": {
  "kernelspec": {
   "display_name": "Python 3 (ipykernel)",
   "language": "python",
   "name": "python3"
  },
  "language_info": {
   "codemirror_mode": {
    "name": "ipython",
    "version": 3
   },
   "file_extension": ".py",
   "mimetype": "text/x-python",
   "name": "python",
   "nbconvert_exporter": "python",
   "pygments_lexer": "ipython3",
   "version": "3.11.5"
  }
 },
 "nbformat": 4,
 "nbformat_minor": 5
}
