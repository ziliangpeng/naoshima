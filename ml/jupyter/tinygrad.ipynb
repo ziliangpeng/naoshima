{
 "cells": [
  {
   "cell_type": "code",
   "execution_count": 1,
   "id": "0f2379bf-263a-49a3-8f2c-8643ce4b265e",
   "metadata": {
    "scrolled": true
   },
   "outputs": [
    {
     "name": "stdout",
     "output_type": "stream",
     "text": [
      "WARNING: creating new view with reshape View(shape=(41, 42), strides=(0, 0), offset=0, mask=((0, 41), (0, 1)), contiguous=False, shape_strides=((1722, 0),)) -> (1722,)\n",
      "*** copy METAL <- CPU size 41 dtype dtypes.float\n",
      "***       0.00 GB    0.01 ms op: BinaryOps.MUL        out(float): (41, 41)                       in(2): [(41, 41)] \n",
      "*** exec  0.00 GB    0.01 ms op: ReduceOps.SUM        out(float): (41, 1)                        in(1): [(41, 41)] (41, 1)\n",
      "UOps.DEFINE_GLOBAL  :                           []                               ('data0', dtypes.float)\n",
      "UOps.DEFINE_GLOBAL  :                           []                               ('data1', dtypes.float)\n",
      "   0 buffer<41, dtypes.float>                        [View(shape=(41, 1), strides=(1, 0), offset=0, mask=None, contiguous=True, shape_strides=((41, 1),))]\n",
      "   1 const<1.0, dtypes.float>                        [View(shape=(41, 42), strides=(0, 0), offset=0, mask=((0, 41), (0, 1)), contiguous=False, shape_strides=((1722, 0),)), View(shape=(41, 41), strides=(41, 1), offset=0, mask=None, contiguous=True, shape_strides=((1681, 1),))]\n",
      "   2 buffer<41, dtypes.float>                        [View(shape=(41, 41), strides=(0, 1), offset=0, mask=None, contiguous=False, shape_strides=((41, 0), (41, 1)))]\n",
      "\u001b[34m  41\u001b[0m \u001b[31m  41\u001b[0m\n",
      "UOps.LOOP           :                           []                               ([<gidx0[0-40]>], 'global')\n",
      "UOps.LOOP           :                           []                               ([], 'local')\n",
      "UOps.LOAD           : <acc0_0>                  []                               ConstOp(value=0.0, valid=<1>, invalid_value=0.0)\n",
      "UOps.LOOP           :                           []                               ([<ridx1[0-40]>], 'reduce')\n",
      "UOps.LOAD           : <const1_0>                []                               ConstOp(value=1.0, valid=<((((gidx0[0-40]*41)+ridx1[0-40])%42)<1)>, invalid_value=0.0)\n",
      "UOps.LOAD           : <val2_0>                  []                               MemOp(name='data1', idx=<ridx1[0-40]>, local=False, memory_dtype=dtypes.float, valid=<1>, invalid_value=0.0)\n",
      "UOps.ALU            : <acc0_0>                  [<const1_0>, <val2_0>, <acc0_0>] TernaryOps.MULACC\n",
      "UOps.ENDLOOP        :                           []                               ([<ridx1[0-40]>], 'reduce')\n",
      "UOps.STORE          :                           [<acc0_0>]                       MemOp(name='data0', idx=<gidx0[0-40]>, local=False, memory_dtype=dtypes.float, valid=<1>, invalid_value=0.0)\n",
      "UOps.ENDLOOP        :                           []                               ([<gidx0[0-40]>], 'global+local')\n",
      "#include <metal_stdlib>\n",
      "using namespace metal;\n",
      "kernel void r_41_41(device float* data0, const device float* data1, uint3 gid [[threadgroup_position_in_grid]], uint3 lid [[thread_position_in_threadgroup]]) {\n",
      "{ int gidx0 = gid.x;  /* 41 */\n",
      "    float acc0_0 = 0.0f;\n",
      "    for (int ridx1 = 0; ridx1 <= 40; ++ridx1) {\n",
      "      float const1_0 = (((((gidx0*41)+ridx1)%42)<1))?(1.0f):0.0f;\n",
      "      float val2_0 = *(data1+ridx1);\n",
      "      acc0_0 = ((const1_0*val2_0)+acc0_0);\n",
      "    } /* reduce */\n",
      "    *(data0+gidx0) = acc0_0;\n",
      "  } /* global+local */\n",
      "}\n",
      "***    0 r_\u001b[34m41\u001b[0m\u001b[90m_\u001b[0m\u001b[31m41\u001b[0m\u001b[90m\u001b[0m                           arg   2 sz [41]               []           OPs      0M/   0.00G  mem  0.00 GB tm     17.62us/     0.02ms (    0.19 GFLOPS,    0.02 GB/s)\n",
      "[-0.8 -0.8 -0.8 -0.8 -0.8 -0.8 -0.8 -0.8 -0.8 -0.8 -0.8 -0.8 -0.8 -0.8\n",
      " -0.8 -0.8 -0.8 -0.8 -0.8 -0.8 -0.8 -0.8 -0.8 -0.8 -0.8 -0.8 -0.8 -0.8\n",
      " -0.8 -0.8 -0.8 -0.8 -0.8 -0.8 -0.8 -0.8 -0.8 -0.8 -0.8 -0.8 -0.8]\n",
      "0.20247197151184082\n"
     ]
    },
    {
     "name": "stderr",
     "output_type": "stream",
     "text": [
      "sh: line 0: cd: /opt/homebrew/Caskroom/miniconda/base/envs/naoshima/lib/python3.11/site-packages/disassemblers/applegpu: No such file or directory\n"
     ]
    }
   ],
   "source": [
    "import tinygrad\n",
    "from tinygrad.tensor import Tensor\n",
    "from tinygrad.helpers import Context\n",
    "\n",
    "import time\n",
    "import importlib\n",
    "importlib.reload(tinygrad)\n",
    "importlib.reload(tinygrad)\n",
    "importlib.reload(tinygrad)\n",
    "\n",
    "@Context(DEBUG=5)\n",
    "def main():\n",
    "    # print(ContextVar._cache)\n",
    "    s = time.time()\n",
    "    # m = 41\n",
    "    n = 41\n",
    "    # k = 41\n",
    "    # x = Tensor.rand(m, requires_grad=True)\n",
    "    x = Tensor.eye(n, requires_grad=True)\n",
    "    # y = Tensor.rand(m, requires_grad=True)\n",
    "    y = Tensor([-0.8]*n, requires_grad=True)\n",
    "    # a = Tensor.rand((3, 2))\n",
    "    \n",
    "    z = x.matmul(y)#.sum()\n",
    "    # z.backward()\n",
    "    print(z.numpy())\n",
    "    \n",
    "    # print(x.grad.numpy())  # dz/dx\n",
    "    # print(y.grad.numpy())  # dz/dy\n",
    "    \n",
    "    e = time.time()\n",
    "    print(e-s)\n",
    "\n",
    "main()"
   ]
  },
  {
   "cell_type": "code",
   "execution_count": null,
   "id": "7651c64d-a7ca-4885-90ca-d8f6c1523425",
   "metadata": {},
   "outputs": [],
   "source": []
  },
  {
   "cell_type": "code",
   "execution_count": null,
   "id": "91d7918b-2063-4c6f-90a4-38792693b9aa",
   "metadata": {},
   "outputs": [],
   "source": []
  }
 ],
 "metadata": {
  "kernelspec": {
   "display_name": "Python 3 (ipykernel)",
   "language": "python",
   "name": "python3"
  },
  "language_info": {
   "codemirror_mode": {
    "name": "ipython",
    "version": 3
   },
   "file_extension": ".py",
   "mimetype": "text/x-python",
   "name": "python",
   "nbconvert_exporter": "python",
   "pygments_lexer": "ipython3",
   "version": "3.11.5"
  }
 },
 "nbformat": 4,
 "nbformat_minor": 5
}
