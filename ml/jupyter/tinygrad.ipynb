{
 "cells": [
  {
   "cell_type": "code",
   "execution_count": 1,
   "id": "0f2379bf-263a-49a3-8f2c-8643ce4b265e",
   "metadata": {
    "scrolled": true
   },
   "outputs": [
    {
     "name": "stdout",
     "output_type": "stream",
     "text": [
      "METAL\n",
      "*** METAL   rand  seed 1703049914 size 185             dtype dtypes.float\n",
      "*** METAL   rand  seed 1703049915 size 259             dtype dtypes.float\n",
      "  0 ━┳ STORE MemBuffer(idx=0, dtype=dtypes.float, st=ShapeTracker(views=(View(shape=(5, 7, 1), strides=(7, 1, 0), offset=0, mask=None, contiguous=True),)))\n",
      "  1  ┗━┳ SUM (5, 7, 1)\n",
      "  2    ┗━┳ MUL \n",
      "  3      ┣━━ LOAD MemBuffer(idx=1, dtype=dtypes.float, st=ShapeTracker(views=(View(shape=(5, 7, 37), strides=(1, 0, 5), offset=0, mask=None, contiguous=False),)))\n",
      "  4      ┗━━ LOAD MemBuffer(idx=2, dtype=dtypes.float, st=ShapeTracker(views=(View(shape=(5, 7, 37), strides=(0, 1, 7), offset=0, mask=None, contiguous=False),)))\n",
      "   0 UOps.DEFINE_GLOBAL  : ptr.dtypes.float          []                               data0\n",
      "   1 UOps.DEFINE_GLOBAL  : ptr.dtypes.float          []                               data1\n",
      "   2 UOps.DEFINE_GLOBAL  : ptr.dtypes.float          []                               data2\n",
      "   3 UOps.SPECIAL        : dtypes.int                []                               (1, 'gidx0', 5)\n",
      "   4 UOps.SPECIAL        : dtypes.int                []                               (0, 'gidx1', 7)\n",
      "   5 UOps.DEFINE_ACC     : dtypes.float              []                               0.0\n",
      "   6 UOps.CONST          : dtypes.int                []                               0\n",
      "   7 UOps.CONST          : dtypes.int                []                               37\n",
      "   8 UOps.CONST          : dtypes.int                []                               5\n",
      "   9 UOps.CONST          : dtypes.int                []                               7\n",
      "  10 UOps.ALU            : dtypes.int                [3, 9]                           BinaryOps.MUL\n",
      "  11 UOps.ALU            : dtypes.int                [10, 4]                          BinaryOps.ADD\n",
      "  12 UOps.LOOP           : dtypes.int                [6, 7]                           None\n",
      "  13 UOps.ALU            : dtypes.int                [12, 8]                          BinaryOps.MUL\n",
      "  14 UOps.ALU            : dtypes.int                [3, 13]                          BinaryOps.ADD\n",
      "  15 UOps.LOAD           : dtypes.float              [1, 14]                          None\n",
      "  16 UOps.ALU            : dtypes.int                [12, 9]                          BinaryOps.MUL\n",
      "  17 UOps.ALU            : dtypes.int                [4, 16]                          BinaryOps.ADD\n",
      "  18 UOps.LOAD           : dtypes.float              [2, 17]                          None\n",
      "  19 UOps.ALU            : dtypes.float              [15, 18, 5]                      TernaryOps.MULACC\n",
      "  20 UOps.PHI            : dtypes.float              [5, 19, 12]                      None\n",
      "  21 UOps.END            :                           [12]                             None\n",
      "  22 UOps.STORE          :                           [0, 11, 20]                      None\n",
      "#include <metal_stdlib>\n",
      "using namespace metal;\n",
      "kernel void r_5_7_37(device float* data0, const device float* data1, const device float* data2, uint3 gid [[threadgroup_position_in_grid]], uint3 lid [[thread_position_in_threadgroup]]) {\n",
      "  int gidx0 = gid.y; /* 5 */\n",
      "  int gidx1 = gid.x; /* 7 */\n",
      "  float acc0 = 0.0f;\n",
      "  for (int ridx0 = 0; ridx0 < 37; ridx0++) {\n",
      "    float val0 = *(data1+gidx0+(ridx0*5));\n",
      "    float val1 = *(data2+gidx1+(ridx0*7));\n",
      "    acc0 = ((val0*val1)+acc0);\n",
      "  }\n",
      "  *(data0+(gidx0*7)+gidx1) = acc0;\n",
      "}\n",
      "SELECT val FROM cache_compile_metal_10 WHERE key='46ac8498b1431ce0ff7547622832b7bf68b2c6b780b2661885faba3cb361ff43'\n"
     ]
    },
    {
     "name": "stderr",
     "output_type": "stream",
     "text": [
      "sh: line 0: cd: /Users/ziliangpeng/code/tinygrad/disassemblers/applegpu: No such file or directory\n"
     ]
    },
    {
     "ename": "AssertionError",
     "evalue": "Error Domain=MTLLibraryErrorDomain Code=1 \"Invalid library file\" UserInfo={NSLocalizedDescription=Invalid library file}",
     "output_type": "error",
     "traceback": [
      "\u001b[0;31m---------------------------------------------------------------------------\u001b[0m",
      "\u001b[0;31mAssertionError\u001b[0m                            Traceback (most recent call last)",
      "Cell \u001b[0;32mIn[1], line 32\u001b[0m\n\u001b[1;32m     29\u001b[0m     e \u001b[38;5;241m=\u001b[39m time\u001b[38;5;241m.\u001b[39mtime()\n\u001b[1;32m     30\u001b[0m     \u001b[38;5;28mprint\u001b[39m(e\u001b[38;5;241m-\u001b[39ms)\n\u001b[0;32m---> 32\u001b[0m \u001b[43mmain\u001b[49m\u001b[43m(\u001b[49m\u001b[43m)\u001b[49m\n",
      "File \u001b[0;32m/opt/homebrew/Caskroom/miniconda/base/envs/naoshima/lib/python3.11/contextlib.py:81\u001b[0m, in \u001b[0;36mContextDecorator.__call__.<locals>.inner\u001b[0;34m(*args, **kwds)\u001b[0m\n\u001b[1;32m     78\u001b[0m \u001b[38;5;129m@wraps\u001b[39m(func)\n\u001b[1;32m     79\u001b[0m \u001b[38;5;28;01mdef\u001b[39;00m \u001b[38;5;21minner\u001b[39m(\u001b[38;5;241m*\u001b[39margs, \u001b[38;5;241m*\u001b[39m\u001b[38;5;241m*\u001b[39mkwds):\n\u001b[1;32m     80\u001b[0m     \u001b[38;5;28;01mwith\u001b[39;00m \u001b[38;5;28mself\u001b[39m\u001b[38;5;241m.\u001b[39m_recreate_cm():\n\u001b[0;32m---> 81\u001b[0m         \u001b[38;5;28;01mreturn\u001b[39;00m \u001b[43mfunc\u001b[49m\u001b[43m(\u001b[49m\u001b[38;5;241;43m*\u001b[39;49m\u001b[43margs\u001b[49m\u001b[43m,\u001b[49m\u001b[43m \u001b[49m\u001b[38;5;241;43m*\u001b[39;49m\u001b[38;5;241;43m*\u001b[39;49m\u001b[43mkwds\u001b[49m\u001b[43m)\u001b[49m\n",
      "Cell \u001b[0;32mIn[1], line 24\u001b[0m, in \u001b[0;36mmain\u001b[0;34m()\u001b[0m\n\u001b[1;32m     22\u001b[0m z \u001b[38;5;241m=\u001b[39m x\u001b[38;5;241m.\u001b[39mtranspose()\u001b[38;5;241m.\u001b[39mmatmul(y)\u001b[38;5;241m.\u001b[39msum()\n\u001b[1;32m     23\u001b[0m \u001b[38;5;66;03m# z.backward()\u001b[39;00m\n\u001b[0;32m---> 24\u001b[0m \u001b[38;5;28mprint\u001b[39m(\u001b[43mz\u001b[49m\u001b[38;5;241;43m.\u001b[39;49m\u001b[43mnumpy\u001b[49m\u001b[43m(\u001b[49m\u001b[43m)\u001b[49m)\n\u001b[1;32m     26\u001b[0m \u001b[38;5;66;03m# print(x.grad.numpy())  # dz/dx\u001b[39;00m\n\u001b[1;32m     27\u001b[0m \u001b[38;5;66;03m# print(y.grad.numpy())  # dz/dy\u001b[39;00m\n\u001b[1;32m     29\u001b[0m e \u001b[38;5;241m=\u001b[39m time\u001b[38;5;241m.\u001b[39mtime()\n",
      "File \u001b[0;32m~/code/tinygrad/tinygrad/tensor.py:135\u001b[0m, in \u001b[0;36mTensor.numpy\u001b[0;34m(self)\u001b[0m\n\u001b[1;32m    133\u001b[0m \u001b[38;5;28;01massert\u001b[39;00m \u001b[38;5;28mself\u001b[39m\u001b[38;5;241m.\u001b[39mdtype\u001b[38;5;241m.\u001b[39mnp \u001b[38;5;129;01mis\u001b[39;00m \u001b[38;5;129;01mnot\u001b[39;00m \u001b[38;5;28;01mNone\u001b[39;00m, \u001b[38;5;124mf\u001b[39m\u001b[38;5;124m\"\u001b[39m\u001b[38;5;124mno numpy dtype for \u001b[39m\u001b[38;5;132;01m{\u001b[39;00m\u001b[38;5;28mself\u001b[39m\u001b[38;5;241m.\u001b[39mdtype\u001b[38;5;132;01m}\u001b[39;00m\u001b[38;5;124m\"\u001b[39m\n\u001b[1;32m    134\u001b[0m \u001b[38;5;28;01mif\u001b[39;00m \u001b[38;5;241m0\u001b[39m \u001b[38;5;129;01min\u001b[39;00m \u001b[38;5;28mself\u001b[39m\u001b[38;5;241m.\u001b[39mshape: \u001b[38;5;28;01mreturn\u001b[39;00m np\u001b[38;5;241m.\u001b[39mzeros(\u001b[38;5;28mself\u001b[39m\u001b[38;5;241m.\u001b[39mshape, dtype\u001b[38;5;241m=\u001b[39m\u001b[38;5;28mself\u001b[39m\u001b[38;5;241m.\u001b[39mdtype\u001b[38;5;241m.\u001b[39mnp)\n\u001b[0;32m--> 135\u001b[0m \u001b[38;5;28;01mreturn\u001b[39;00m \u001b[38;5;28;43mself\u001b[39;49m\u001b[38;5;241;43m.\u001b[39;49m\u001b[43mdetach\u001b[49m\u001b[43m(\u001b[49m\u001b[43m)\u001b[49m\u001b[38;5;241;43m.\u001b[39;49m\u001b[43mcast\u001b[49m\u001b[43m(\u001b[49m\u001b[43mdtypes\u001b[49m\u001b[38;5;241;43m.\u001b[39;49m\u001b[43mfrom_np\u001b[49m\u001b[43m(\u001b[49m\u001b[38;5;28;43mself\u001b[39;49m\u001b[38;5;241;43m.\u001b[39;49m\u001b[43mdtype\u001b[49m\u001b[38;5;241;43m.\u001b[39;49m\u001b[43mnp\u001b[49m\u001b[43m)\u001b[49m\u001b[43m)\u001b[49m\u001b[38;5;241;43m.\u001b[39;49m\u001b[43mcontiguous\u001b[49m\u001b[43m(\u001b[49m\u001b[43m)\u001b[49m\u001b[38;5;241;43m.\u001b[39;49m\u001b[43mto\u001b[49m\u001b[43m(\u001b[49m\u001b[38;5;124;43m'\u001b[39;49m\u001b[38;5;124;43mCPU\u001b[39;49m\u001b[38;5;124;43m'\u001b[39;49m\u001b[43m)\u001b[49m\u001b[38;5;241;43m.\u001b[39;49m\u001b[43mrealize\u001b[49m\u001b[43m(\u001b[49m\u001b[43m)\u001b[49m\u001b[38;5;241m.\u001b[39mlazydata\u001b[38;5;241m.\u001b[39mrealized\u001b[38;5;241m.\u001b[39mtoCPU()\u001b[38;5;241m.\u001b[39mastype(\u001b[38;5;28mself\u001b[39m\u001b[38;5;241m.\u001b[39mdtype\u001b[38;5;241m.\u001b[39mnp, copy\u001b[38;5;241m=\u001b[39m\u001b[38;5;28;01mTrue\u001b[39;00m)\u001b[38;5;241m.\u001b[39mreshape(\u001b[38;5;28mself\u001b[39m\u001b[38;5;241m.\u001b[39mshape)\n",
      "File \u001b[0;32m~/code/tinygrad/tinygrad/tensor.py:105\u001b[0m, in \u001b[0;36mTensor.realize\u001b[0;34m(self)\u001b[0m\n\u001b[1;32m    104\u001b[0m \u001b[38;5;28;01mdef\u001b[39;00m \u001b[38;5;21mrealize\u001b[39m(\u001b[38;5;28mself\u001b[39m) \u001b[38;5;241m-\u001b[39m\u001b[38;5;241m>\u001b[39m Tensor:\n\u001b[0;32m--> 105\u001b[0m   \u001b[43mrun_schedule\u001b[49m\u001b[43m(\u001b[49m\u001b[38;5;28;43mself\u001b[39;49m\u001b[38;5;241;43m.\u001b[39;49m\u001b[43mlazydata\u001b[49m\u001b[38;5;241;43m.\u001b[39;49m\u001b[43mschedule\u001b[49m\u001b[43m(\u001b[49m\u001b[43m)\u001b[49m\u001b[43m)\u001b[49m\n\u001b[1;32m    106\u001b[0m   \u001b[38;5;28;01mreturn\u001b[39;00m \u001b[38;5;28mself\u001b[39m\n",
      "File \u001b[0;32m~/code/tinygrad/tinygrad/realize.py:28\u001b[0m, in \u001b[0;36mrun_schedule\u001b[0;34m(schedule, disable_logging)\u001b[0m\n\u001b[1;32m     25\u001b[0m \u001b[38;5;28;01massert\u001b[39;00m \u001b[38;5;28mall\u001b[39m(x\u001b[38;5;241m.\u001b[39mrealized \u001b[38;5;28;01mfor\u001b[39;00m x \u001b[38;5;129;01min\u001b[39;00m si\u001b[38;5;241m.\u001b[39minputs), \u001b[38;5;124m\"\u001b[39m\u001b[38;5;124mcan\u001b[39m\u001b[38;5;124m'\u001b[39m\u001b[38;5;124mt run schedule, some inputs aren\u001b[39m\u001b[38;5;124m'\u001b[39m\u001b[38;5;124mt realized\u001b[39m\u001b[38;5;124m\"\u001b[39m\n\u001b[1;32m     27\u001b[0m \u001b[38;5;66;03m# get the program\u001b[39;00m\n\u001b[0;32m---> 28\u001b[0m prg \u001b[38;5;241m=\u001b[39m \u001b[43mlower_schedule_item\u001b[49m\u001b[43m(\u001b[49m\u001b[43msi\u001b[49m\u001b[43m)\u001b[49m\n\u001b[1;32m     30\u001b[0m \u001b[38;5;66;03m# we don't have an output buffer, we have to create it, and create to max size if it has symbolic shape\u001b[39;00m\n\u001b[1;32m     31\u001b[0m si\u001b[38;5;241m.\u001b[39mout\u001b[38;5;241m.\u001b[39mrealized \u001b[38;5;241m=\u001b[39m si\u001b[38;5;241m.\u001b[39mout\u001b[38;5;241m.\u001b[39moutput_buffer \u001b[38;5;28;01mif\u001b[39;00m si\u001b[38;5;241m.\u001b[39mout\u001b[38;5;241m.\u001b[39moutput_buffer \u001b[38;5;129;01mis\u001b[39;00m \u001b[38;5;129;01mnot\u001b[39;00m \u001b[38;5;28;01mNone\u001b[39;00m \u001b[38;5;28;01melse\u001b[39;00m \\\n\u001b[1;32m     32\u001b[0m   Buffer(si\u001b[38;5;241m.\u001b[39mout\u001b[38;5;241m.\u001b[39mdevice, prod((s \u001b[38;5;28;01mif\u001b[39;00m \u001b[38;5;28misinstance\u001b[39m(s, \u001b[38;5;28mint\u001b[39m) \u001b[38;5;28;01melse\u001b[39;00m s\u001b[38;5;241m.\u001b[39mmax \u001b[38;5;28;01mfor\u001b[39;00m s \u001b[38;5;129;01min\u001b[39;00m si\u001b[38;5;241m.\u001b[39mout\u001b[38;5;241m.\u001b[39mshape)), si\u001b[38;5;241m.\u001b[39mout\u001b[38;5;241m.\u001b[39mdtype)\n",
      "File \u001b[0;32m~/code/tinygrad/tinygrad/realize.py:19\u001b[0m, in \u001b[0;36mlower_schedule_item\u001b[0;34m(si)\u001b[0m\n\u001b[1;32m     17\u001b[0m \u001b[38;5;28;01mif\u001b[39;00m si\u001b[38;5;241m.\u001b[39mast\u001b[38;5;241m.\u001b[39mop \u001b[38;5;129;01mis\u001b[39;00m LoadOps\u001b[38;5;241m.\u001b[39mCOPY: \u001b[38;5;28;01mreturn\u001b[39;00m BufferCopy\n\u001b[1;32m     18\u001b[0m \u001b[38;5;28;01mif\u001b[39;00m si\u001b[38;5;241m.\u001b[39mast\u001b[38;5;241m.\u001b[39mop \u001b[38;5;129;01mis\u001b[39;00m LoadOps\u001b[38;5;241m.\u001b[39mCUSTOM: \u001b[38;5;28;01mreturn\u001b[39;00m CustomOp(si\u001b[38;5;241m.\u001b[39mast\u001b[38;5;241m.\u001b[39marg)\n\u001b[0;32m---> 19\u001b[0m \u001b[38;5;28;01mreturn\u001b[39;00m \u001b[43mDevice\u001b[49m\u001b[43m[\u001b[49m\u001b[43msi\u001b[49m\u001b[38;5;241;43m.\u001b[39;49m\u001b[43mout\u001b[49m\u001b[38;5;241;43m.\u001b[39;49m\u001b[43mdevice\u001b[49m\u001b[43m]\u001b[49m\u001b[38;5;241;43m.\u001b[39;49m\u001b[43mget_runner\u001b[49m\u001b[43m(\u001b[49m\u001b[43msi\u001b[49m\u001b[38;5;241;43m.\u001b[39;49m\u001b[43mast\u001b[49m\u001b[43m)\u001b[49m\n",
      "File \u001b[0;32m~/code/tinygrad/tinygrad/device.py:314\u001b[0m, in \u001b[0;36mCompiled.get_runner\u001b[0;34m(self, ast)\u001b[0m\n\u001b[1;32m    313\u001b[0m \u001b[38;5;129m@functools\u001b[39m\u001b[38;5;241m.\u001b[39mlru_cache(\u001b[38;5;28;01mNone\u001b[39;00m)    \u001b[38;5;66;03m# pylint: disable=method-cache-max-size-none\u001b[39;00m\n\u001b[0;32m--> 314\u001b[0m \u001b[38;5;28;01mdef\u001b[39;00m \u001b[38;5;21mget_runner\u001b[39m(\u001b[38;5;28mself\u001b[39m, ast:LazyOp) \u001b[38;5;241m-\u001b[39m\u001b[38;5;241m>\u001b[39m CompiledASTRunner: \u001b[38;5;28;01mreturn\u001b[39;00m \u001b[38;5;28;43mself\u001b[39;49m\u001b[38;5;241;43m.\u001b[39;49m\u001b[43mto_program\u001b[49m\u001b[43m(\u001b[49m\u001b[38;5;28;43mself\u001b[39;49m\u001b[38;5;241;43m.\u001b[39;49m\u001b[43mget_linearizer\u001b[49m\u001b[43m(\u001b[49m\u001b[43mast\u001b[49m\u001b[43m)\u001b[49m\u001b[43m)\u001b[49m\n",
      "File \u001b[0;32m~/code/tinygrad/tinygrad/device.py:286\u001b[0m, in \u001b[0;36mCompiled.to_program\u001b[0;34m(self, k)\u001b[0m\n\u001b[1;32m    284\u001b[0m k\u001b[38;5;241m.\u001b[39mlinearize()\n\u001b[1;32m    285\u001b[0m src, runtime_args \u001b[38;5;241m=\u001b[39m \u001b[38;5;28mself\u001b[39m\u001b[38;5;241m.\u001b[39mrenderer(to_function_name(k\u001b[38;5;241m.\u001b[39mname), k\u001b[38;5;241m.\u001b[39muops)\n\u001b[0;32m--> 286\u001b[0m \u001b[38;5;28;01mreturn\u001b[39;00m \u001b[43mCompiledASTRunner\u001b[49m\u001b[43m(\u001b[49m\u001b[43mk\u001b[49m\u001b[38;5;241;43m.\u001b[39;49m\u001b[43mast\u001b[49m\u001b[43m,\u001b[49m\u001b[43m \u001b[49m\u001b[43mk\u001b[49m\u001b[38;5;241;43m.\u001b[39;49m\u001b[43mname\u001b[49m\u001b[43m,\u001b[49m\u001b[43m \u001b[49m\u001b[43msrc\u001b[49m\u001b[43m,\u001b[49m\u001b[43m \u001b[49m\u001b[43mk\u001b[49m\u001b[38;5;241;43m.\u001b[39;49m\u001b[43mglobal_size\u001b[49m\u001b[43m,\u001b[49m\u001b[43m \u001b[49m\u001b[43mk\u001b[49m\u001b[38;5;241;43m.\u001b[39;49m\u001b[43mlocal_size\u001b[49m\u001b[43m,\u001b[49m\u001b[43m \u001b[49m\u001b[43mruntime_args\u001b[49m\u001b[43m)\u001b[49m\u001b[38;5;241;43m.\u001b[39;49m\u001b[43mbuild\u001b[49m\u001b[43m(\u001b[49m\u001b[38;5;28;43mself\u001b[39;49m\u001b[38;5;241;43m.\u001b[39;49m\u001b[43mcompiler\u001b[49m\u001b[43m,\u001b[49m\u001b[43m \u001b[49m\u001b[38;5;28;43mself\u001b[39;49m\u001b[38;5;241;43m.\u001b[39;49m\u001b[43mruntime\u001b[49m\u001b[43m)\u001b[49m\n",
      "File \u001b[0;32m~/code/tinygrad/tinygrad/device.py:255\u001b[0m, in \u001b[0;36mCompiledASTRunner.build\u001b[0;34m(self, compiler, runtime)\u001b[0m\n\u001b[1;32m    253\u001b[0m \u001b[38;5;28;01mdef\u001b[39;00m \u001b[38;5;21mbuild\u001b[39m(\u001b[38;5;28mself\u001b[39m, compiler, runtime):\n\u001b[1;32m    254\u001b[0m   \u001b[38;5;28mself\u001b[39m\u001b[38;5;241m.\u001b[39mlib \u001b[38;5;241m=\u001b[39m compiler\u001b[38;5;241m.\u001b[39m__wrapped__(\u001b[38;5;28mself\u001b[39m\u001b[38;5;241m.\u001b[39mprg) \u001b[38;5;28;01mif\u001b[39;00m getenv(\u001b[38;5;124m\"\u001b[39m\u001b[38;5;124mDISABLE_COMPILER_CACHE\u001b[39m\u001b[38;5;124m\"\u001b[39m) \u001b[38;5;28;01melse\u001b[39;00m compiler(\u001b[38;5;28mself\u001b[39m\u001b[38;5;241m.\u001b[39mprg)\n\u001b[0;32m--> 255\u001b[0m   \u001b[38;5;28mself\u001b[39m\u001b[38;5;241m.\u001b[39mclprg \u001b[38;5;241m=\u001b[39m \u001b[43mruntime\u001b[49m\u001b[43m(\u001b[49m\u001b[38;5;28;43mself\u001b[39;49m\u001b[38;5;241;43m.\u001b[39;49m\u001b[43mname\u001b[49m\u001b[43m,\u001b[49m\u001b[43m \u001b[49m\u001b[38;5;28;43mself\u001b[39;49m\u001b[38;5;241;43m.\u001b[39;49m\u001b[43mlib\u001b[49m\u001b[43m)\u001b[49m\n\u001b[1;32m    256\u001b[0m   \u001b[38;5;28;01mreturn\u001b[39;00m \u001b[38;5;28mself\u001b[39m\n",
      "File \u001b[0;32m~/code/tinygrad/tinygrad/runtime/ops_metal.py:30\u001b[0m, in \u001b[0;36mMetalProgram.__init__\u001b[0;34m(self, device, name, lib)\u001b[0m\n\u001b[1;32m     28\u001b[0m     os\u001b[38;5;241m.\u001b[39msystem(\u001b[38;5;124mf\u001b[39m\u001b[38;5;124m\"\u001b[39m\u001b[38;5;124mcd \u001b[39m\u001b[38;5;132;01m{\u001b[39;00mpathlib\u001b[38;5;241m.\u001b[39mPath(\u001b[38;5;18m__file__\u001b[39m)\u001b[38;5;241m.\u001b[39mparents[\u001b[38;5;241m2\u001b[39m]\u001b[38;5;132;01m}\u001b[39;00m\u001b[38;5;124m/disassemblers/applegpu && python3 compiler_explorer.py \u001b[39m\u001b[38;5;132;01m{\u001b[39;00mshader\u001b[38;5;241m.\u001b[39mname\u001b[38;5;132;01m}\u001b[39;00m\u001b[38;5;124m\"\u001b[39m)\n\u001b[1;32m     29\u001b[0m data \u001b[38;5;241m=\u001b[39m libdispatch\u001b[38;5;241m.\u001b[39mdispatch_data_create(lib, \u001b[38;5;28mlen\u001b[39m(lib), \u001b[38;5;28;01mNone\u001b[39;00m, \u001b[38;5;28;01mNone\u001b[39;00m)\n\u001b[0;32m---> 30\u001b[0m \u001b[38;5;28mself\u001b[39m\u001b[38;5;241m.\u001b[39mlibrary \u001b[38;5;241m=\u001b[39m \u001b[43munwrap2\u001b[49m\u001b[43m(\u001b[49m\u001b[38;5;28;43mself\u001b[39;49m\u001b[38;5;241;43m.\u001b[39;49m\u001b[43mdevice\u001b[49m\u001b[38;5;241;43m.\u001b[39;49m\u001b[43mdevice\u001b[49m\u001b[38;5;241;43m.\u001b[39;49m\u001b[43mnewLibraryWithData_error_\u001b[49m\u001b[43m(\u001b[49m\u001b[43mdata\u001b[49m\u001b[43m,\u001b[49m\u001b[43m \u001b[49m\u001b[38;5;28;43;01mNone\u001b[39;49;00m\u001b[43m)\u001b[49m\u001b[43m)\u001b[49m\n\u001b[1;32m     31\u001b[0m \u001b[38;5;28mself\u001b[39m\u001b[38;5;241m.\u001b[39mfxn \u001b[38;5;241m=\u001b[39m \u001b[38;5;28mself\u001b[39m\u001b[38;5;241m.\u001b[39mlibrary\u001b[38;5;241m.\u001b[39mnewFunctionWithName_(name)\n\u001b[1;32m     32\u001b[0m \u001b[38;5;28mself\u001b[39m\u001b[38;5;241m.\u001b[39mpipeline_state \u001b[38;5;241m=\u001b[39m unwrap2(\u001b[38;5;28mself\u001b[39m\u001b[38;5;241m.\u001b[39mdevice\u001b[38;5;241m.\u001b[39mdevice\u001b[38;5;241m.\u001b[39mnewComputePipelineStateWithFunction_error_(\u001b[38;5;28mself\u001b[39m\u001b[38;5;241m.\u001b[39mfxn, \u001b[38;5;28;01mNone\u001b[39;00m))\n",
      "File \u001b[0;32m~/code/tinygrad/tinygrad/helpers.py:46\u001b[0m, in \u001b[0;36munwrap2\u001b[0;34m(x)\u001b[0m\n\u001b[1;32m     44\u001b[0m \u001b[38;5;28;01mdef\u001b[39;00m \u001b[38;5;21munwrap2\u001b[39m(x:Tuple[T,Any]) \u001b[38;5;241m-\u001b[39m\u001b[38;5;241m>\u001b[39m T:\n\u001b[1;32m     45\u001b[0m   ret, err \u001b[38;5;241m=\u001b[39m x\n\u001b[0;32m---> 46\u001b[0m   \u001b[38;5;28;01massert\u001b[39;00m err \u001b[38;5;129;01mis\u001b[39;00m \u001b[38;5;28;01mNone\u001b[39;00m, \u001b[38;5;28mstr\u001b[39m(err)\n\u001b[1;32m     47\u001b[0m   \u001b[38;5;28;01mreturn\u001b[39;00m ret\n",
      "\u001b[0;31mAssertionError\u001b[0m: Error Domain=MTLLibraryErrorDomain Code=1 \"Invalid library file\" UserInfo={NSLocalizedDescription=Invalid library file}"
     ]
    }
   ],
   "source": [
    "import tinygrad\n",
    "from tinygrad.tensor import Tensor\n",
    "from tinygrad.helpers import Context\n",
    "\n",
    "import os\n",
    "import time\n",
    "import importlib\n",
    "# importlib.reload(tinygrad)\n",
    "\n",
    "@Context(DEBUG=7)\n",
    "def main():\n",
    "    # os.environ['CPU'] = '1'\n",
    "    # print(ContextVar._cache)\n",
    "    s = time.time()\n",
    "    n = 5\n",
    "    m = 37\n",
    "    k = 7\n",
    "    x = Tensor.rand(m, n, requires_grad=True)\n",
    "    y = Tensor.rand(m, k, requires_grad=True)\n",
    "    print(x.device)\n",
    "\n",
    "    z = x.transpose().matmul(y).sum()\n",
    "    # z.backward()\n",
    "    print(z.numpy())\n",
    "\n",
    "    # print(x.grad.numpy())  # dz/dx\n",
    "    # print(y.grad.numpy())  # dz/dy\n",
    "\n",
    "    e = time.time()\n",
    "    print(e-s)\n",
    "\n",
    "main()"
   ]
  },
  {
   "cell_type": "code",
   "execution_count": null,
   "id": "7651c64d-a7ca-4885-90ca-d8f6c1523425",
   "metadata": {},
   "outputs": [],
   "source": []
  },
  {
   "cell_type": "code",
   "execution_count": null,
   "id": "91d7918b-2063-4c6f-90a4-38792693b9aa",
   "metadata": {},
   "outputs": [],
   "source": []
  }
 ],
 "metadata": {
  "kernelspec": {
   "display_name": "Python 3 (ipykernel)",
   "language": "python",
   "name": "python3"
  },
  "language_info": {
   "codemirror_mode": {
    "name": "ipython",
    "version": 3
   },
   "file_extension": ".py",
   "mimetype": "text/x-python",
   "name": "python",
   "nbconvert_exporter": "python",
   "pygments_lexer": "ipython3",
   "version": "3.11.5"
  }
 },
 "nbformat": 4,
 "nbformat_minor": 5
}
