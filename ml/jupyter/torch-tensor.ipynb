{
 "cells": [
  {
   "cell_type": "code",
   "execution_count": 9,
   "id": "b82688f8-b9c7-41a5-a208-52eec1fc9e02",
   "metadata": {},
   "outputs": [
    {
     "name": "stdout",
     "output_type": "stream",
     "text": [
      "['__builtins__', '__cached__', '__doc__', '__file__', '__loader__', '__name__', '__package__', '__spec__', '__version__', 'cuda', 'debug', 'git_version', 'hip']\n",
      "None\n",
      "2.1.0\n",
      "2.1.0\n"
     ]
    }
   ],
   "source": [
    "import torch\n",
    "print(dir(torch.version))\n",
    "print(torch.version.cuda)\n",
    "print(torch.__version__)\n",
    "print(torch.version.__version__)"
   ]
  },
  {
   "cell_type": "code",
   "execution_count": 56,
   "id": "e0ff7b1c-810d-42c8-b01a-ccdb0de39e79",
   "metadata": {},
   "outputs": [
    {
     "name": "stdout",
     "output_type": "stream",
     "text": [
      "torch.int64\n",
      "torch.float32\n",
      "torch.Size([2, 3])\n",
      "tensor([[1., 2., 3.],\n",
      "        [4., 5., 6.]])\n",
      "torch.float32\n",
      "tensor(5.)\n",
      "tensor([[1., 2.],\n",
      "        [4., 5.]])\n",
      "tensor([[0.7081, 0.4124, 0.1700, 0.0475, 0.3198],\n",
      "        [0.1559, 0.9751, 0.3151, 0.6193, 0.3132],\n",
      "        [0.0086, 0.7936, 0.3779, 0.7357, 0.2023],\n",
      "        [0.6642, 0.2110, 0.1180, 0.5237, 0.5583]])\n",
      "tensor([[1., 1., 1., 1., 1.],\n",
      "        [1., 1., 1., 1., 1.],\n",
      "        [1., 1., 1., 1., 1.],\n",
      "        [1., 1., 1., 1., 1.]])\n",
      "tensor([[1.7081, 1.4124, 1.1700, 1.0475, 1.3198],\n",
      "        [1.1559, 1.9751, 1.3151, 1.6193, 1.3132],\n",
      "        [1.0086, 1.7936, 1.3779, 1.7357, 1.2023],\n",
      "        [1.6642, 1.2110, 1.1180, 1.5237, 1.5583]])\n"
     ]
    },
    {
     "data": {
      "text/plain": [
       "tensor([[0.7081, 0.4124, 0.1700, 0.0475, 0.3198, 0.1559, 0.9751, 0.3151, 0.6193,\n",
       "         0.3132, 0.0086, 0.7936, 0.3779, 0.7357, 0.2023, 0.6642, 0.2110, 0.1180,\n",
       "         0.5237, 0.5583]])"
      ]
     },
     "execution_count": 56,
     "metadata": {},
     "output_type": "execute_result"
    }
   ],
   "source": [
    "a=torch.tensor([[1,2,3], [4,5,6]]) # give exact python array.\n",
    "print(a.dtype) # int64 on my notebook.\n",
    "a=torch.FloatTensor([[1,2,3], [4,5,6]]) # make it float\n",
    "print(a.dtype) # flaot32\n",
    "print(a.shape)\n",
    "print(a)\n",
    "print(a.dtype)\n",
    "# indexing and slicing\n",
    "print(a[1][1])\n",
    "print(a[:, :2]) # how is this a valid syntax? it can't be done on py list. try impl this override.\n",
    "\n",
    "a = torch.rand((4,5))\n",
    "b = torch.ones((4,5))\n",
    "print(a)\n",
    "print(b)\n",
    "print(a + b)\n",
    "\n",
    "x = a.view((2, 10))\n",
    "y = a.reshape((1,20))\n",
    "y"
   ]
  },
  {
   "cell_type": "code",
   "execution_count": 28,
   "id": "b0eb1d5c-ca2d-43a5-a284-da3d3ee7d2fa",
   "metadata": {},
   "outputs": [
    {
     "data": {
      "text/plain": [
       "torch.float32"
      ]
     },
     "execution_count": 28,
     "metadata": {},
     "output_type": "execute_result"
    }
   ],
   "source": [
    "torch.zeros(1,2,3,4,5).dtype"
   ]
  },
  {
   "cell_type": "code",
   "execution_count": 60,
   "id": "c8b71c2a-169b-462b-9c25-ac9e14c0050d",
   "metadata": {},
   "outputs": [
    {
     "name": "stdout",
     "output_type": "stream",
     "text": [
      "torch.Size([7, 7])\n",
      "tensor([[4017.5310, 5329.3281, 5575.6206, 6816.2061, 7003.6699, 5450.0151,\n",
      "         8061.1221],\n",
      "        [4255.8208, 5645.5049, 5906.5410, 7220.6152, 7419.1904, 5773.2896,\n",
      "         8539.4072],\n",
      "        [3279.0327, 4349.7031, 4550.7271, 5563.2637, 5716.2749, 4448.2026,\n",
      "         6579.3555],\n",
      "        [1857.6310, 2464.2317, 2578.2083, 3151.7666, 3238.4392, 2520.0034,\n",
      "         3727.4055],\n",
      "        [2763.8511, 3666.2432, 3835.5732, 4689.1021, 4818.0776, 3749.3040,\n",
      "         5545.5264],\n",
      "        [4107.6836, 5448.8931, 5700.6685, 6969.1196, 7160.7998, 5572.3086,\n",
      "         8241.9707],\n",
      "        [2858.6570, 3792.0735, 3967.3374, 4850.0591, 4983.4502, 3877.9365,\n",
      "         5735.8857]])\n"
     ]
    }
   ],
   "source": [
    "# matmul\n",
    "a = torch.rand(7,7)\n",
    "b = torch.rand(7,7)\n",
    "c = a @ b @ a @ b @ b @ a @ b @ b\n",
    "print(c.shape)\n",
    "print(c)"
   ]
  },
  {
   "cell_type": "code",
   "execution_count": 62,
   "id": "628bf448-c591-4c35-bf9c-cd8ac85a0350",
   "metadata": {},
   "outputs": [
    {
     "name": "stdout",
     "output_type": "stream",
     "text": [
      "tensor([[4017.5310, 5329.3281, 5575.6206, 6816.2061, 7003.6699, 5450.0151,\n",
      "         8061.1221],\n",
      "        [4255.8208, 5645.5049, 5906.5410, 7220.6152, 7419.1904, 5773.2896,\n",
      "         8539.4072],\n",
      "        [3279.0327, 4349.7031, 4550.7271, 5563.2637, 5716.2749, 4448.2026,\n",
      "         6579.3555],\n",
      "        [1857.6310, 2464.2317, 2578.2083, 3151.7666, 3238.4392, 2520.0034,\n",
      "         3727.4055],\n",
      "        [2763.8511, 3666.2432, 3835.5732, 4689.1021, 4818.0776, 3749.3040,\n",
      "         5545.5264],\n",
      "        [4107.6836, 5448.8931, 5700.6685, 6969.1196, 7160.7998, 5572.3086,\n",
      "         8241.9707],\n",
      "        [2858.6570, 3792.0735, 3967.3374, 4850.0591, 4983.4502, 3877.9365,\n",
      "         5735.8857]])\n",
      "tensor([23140.2070, 30695.9785, 32114.6777, 39260.1328, 40339.8984, 31391.0605,\n",
      "        46430.6719])\n"
     ]
    }
   ],
   "source": [
    "print(c)\n",
    "print(c.sum(0))"
   ]
  },
  {
   "cell_type": "code",
   "execution_count": 65,
   "id": "ff464abc-3440-4087-ba84-c841d077dc2b",
   "metadata": {},
   "outputs": [
    {
     "data": {
      "text/plain": [
       "tensor([[[7.9765e-01, 5.8051e-01, 1.5462e-01, 7.7800e-01, 5.1621e-01,\n",
       "          7.2440e-01, 7.0482e-01, 9.4960e-01, 8.3941e-01, 9.9335e-01,\n",
       "          9.1860e-01, 4.5343e-01],\n",
       "         [3.4318e-01, 6.6042e-01, 7.9242e-01, 1.1209e-01, 8.3455e-02,\n",
       "          4.0912e-01, 7.9462e-01, 7.0781e-02, 6.1316e-01, 7.8667e-01,\n",
       "          4.3240e-01, 3.0761e-01],\n",
       "         [1.4118e-01, 1.9399e-01, 9.4604e-01, 2.5521e-01, 5.6341e-01,\n",
       "          3.2927e-02, 1.4126e-01, 6.2290e-01, 6.5583e-01, 4.3304e-01,\n",
       "          3.4987e-01, 9.6381e-01],\n",
       "         [6.8916e-01, 5.7930e-01, 3.6467e-01, 7.9715e-01, 8.7407e-01,\n",
       "          7.0359e-01, 3.1942e-01, 1.0737e-02, 3.3143e-01, 5.0315e-01,\n",
       "          3.5769e-01, 4.7029e-01]],\n",
       "\n",
       "        [[6.8203e-01, 7.3456e-01, 4.5447e-01, 6.7917e-01, 7.8758e-01,\n",
       "          7.1340e-01, 3.3299e-01, 8.6356e-01, 3.1838e-03, 7.3141e-01,\n",
       "          3.3192e-01, 3.7027e-01],\n",
       "         [3.0635e-01, 8.2358e-01, 9.7793e-01, 8.5237e-01, 9.6905e-02,\n",
       "          2.4229e-04, 9.8127e-01, 8.4138e-01, 3.4003e-02, 8.3614e-01,\n",
       "          2.6860e-01, 1.6270e-03],\n",
       "         [6.1048e-01, 5.8651e-01, 9.5833e-01, 1.6305e-01, 1.9656e-01,\n",
       "          2.6533e-01, 5.7544e-01, 3.7583e-01, 3.6311e-01, 7.2016e-01,\n",
       "          1.9548e-01, 9.3886e-02],\n",
       "         [9.1277e-01, 4.0648e-01, 1.8709e-01, 9.3820e-01, 8.4027e-01,\n",
       "          2.0285e-01, 1.3839e-01, 3.1532e-01, 3.8972e-01, 3.5026e-01,\n",
       "          2.5554e-01, 8.2597e-01]],\n",
       "\n",
       "        [[3.3673e-01, 3.1113e-01, 2.1159e-01, 4.3425e-01, 9.7989e-01,\n",
       "          4.2024e-02, 5.4177e-01, 8.3402e-01, 3.5367e-01, 1.9813e-01,\n",
       "          5.7990e-01, 6.4573e-01],\n",
       "         [2.1156e-01, 1.2476e-01, 1.1152e-01, 3.7161e-01, 5.0448e-02,\n",
       "          1.1636e-01, 5.9560e-01, 7.5013e-01, 8.9589e-01, 3.7188e-01,\n",
       "          1.4261e-01, 4.1459e-01],\n",
       "         [1.6191e-01, 5.4366e-01, 3.9837e-01, 3.3806e-02, 5.1816e-01,\n",
       "          5.8032e-01, 2.3663e-01, 9.5303e-01, 4.1532e-01, 5.4994e-01,\n",
       "          4.0939e-01, 6.5701e-01],\n",
       "         [5.8996e-01, 1.9706e-01, 6.2808e-02, 3.9198e-01, 1.8691e-02,\n",
       "          3.9062e-01, 1.6740e-01, 6.8457e-01, 9.4975e-01, 9.9724e-01,\n",
       "          1.4966e-01, 9.8925e-01]]])"
      ]
     },
     "execution_count": 65,
     "metadata": {},
     "output_type": "execute_result"
    }
   ],
   "source": [
    "a = torch.rand((3,4,5))\n",
    "b = torch.rand((3,4,7))\n",
    "torch.cat([a, b], dim=2)"
   ]
  },
  {
   "cell_type": "code",
   "execution_count": 76,
   "id": "64c147b5-d949-4611-ab48-1fffe926527c",
   "metadata": {},
   "outputs": [
    {
     "name": "stdout",
     "output_type": "stream",
     "text": [
      "torch.Size([2, 4, 5])\n",
      "torch.Size([4, 2, 5])\n",
      "torch.Size([4, 5, 2])\n"
     ]
    }
   ],
   "source": [
    "a = torch.rand(4, 5)\n",
    "b = torch.rand(4, 5)\n",
    "print(torch.stack([a, b], dim=0).shape)\n",
    "print(torch.stack([a, b], dim=1).shape)\n",
    "print(torch.stack([a, b], dim=2).shape)"
   ]
  },
  {
   "cell_type": "code",
   "execution_count": 82,
   "id": "0eefa99a-a7fd-4db6-8be6-5f5b35fe8087",
   "metadata": {},
   "outputs": [
    {
     "data": {
      "text/plain": [
       "torch.Size([4, 5, 3])"
      ]
     },
     "execution_count": 82,
     "metadata": {},
     "output_type": "execute_result"
    }
   ],
   "source": [
    "# squeeze\n",
    "a = torch.rand((4,5,1,1, 3))\n",
    "a.squeeze().shape"
   ]
  },
  {
   "cell_type": "code",
   "execution_count": 26,
   "id": "85d3db5a-faa5-46f9-afcb-2dbce0d6abb8",
   "metadata": {},
   "outputs": [
    {
     "name": "stdout",
     "output_type": "stream",
     "text": [
      "<Tensor <LB METAL (3,) contig:True (<LoadOps.COPY: 3>, None)> on METAL with grad None>\n",
      "(3,)\n",
      "<Tensor <LB METAL (3,) contig:True (<LoadOps.COPY: 3>, None)> on METAL with grad None>\n",
      "<Tensor <LB METAL (3,) contig:True (<BinaryOps.MUL: 3>, None)> on METAL with grad None>\n"
     ]
    }
   ],
   "source": [
    "# import torch\n",
    "import tinygrad as t\n",
    "\n",
    "\n",
    "a = t.tensor.Tensor([3,4,5], dtype=t.helpers.dtypes.float)\n",
    "print(a)\n",
    "print(a.shape)\n",
    "b = t.tensor.Tensor([3,4,5], dtype=t.helpers.dtypes.double)\n",
    "print(b)\n",
    "\n",
    "c = a * b\n",
    "print(c)"
   ]
  },
  {
   "cell_type": "code",
   "execution_count": 9,
   "id": "e5b27571-1c91-4dbc-9c4f-ad23b7be0db3",
   "metadata": {},
   "outputs": [
    {
     "name": "stdout",
     "output_type": "stream",
     "text": [
      "None\n"
     ]
    }
   ],
   "source": [
    "import numpy as np\n",
    "print(np.newaxis)"
   ]
  },
  {
   "cell_type": "code",
   "execution_count": null,
   "id": "32adf5ca-8314-4018-aff7-159d8e35c931",
   "metadata": {},
   "outputs": [],
   "source": []
  }
 ],
 "metadata": {
  "kernelspec": {
   "display_name": "Python 3 (ipykernel)",
   "language": "python",
   "name": "python3"
  },
  "language_info": {
   "codemirror_mode": {
    "name": "ipython",
    "version": 3
   },
   "file_extension": ".py",
   "mimetype": "text/x-python",
   "name": "python",
   "nbconvert_exporter": "python",
   "pygments_lexer": "ipython3",
   "version": "3.11.5"
  }
 },
 "nbformat": 4,
 "nbformat_minor": 5
}
