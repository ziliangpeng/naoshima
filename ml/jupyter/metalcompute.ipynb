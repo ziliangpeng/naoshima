{
 "cells": [
  {
   "cell_type": "code",
   "execution_count": 1,
   "id": "f5901b15-3411-4f13-9492-da668e0761db",
   "metadata": {},
   "outputs": [
    {
     "name": "stdout",
     "output_type": "stream",
     "text": [
      "array('i', [1, 2, 3, 4, 5, 6])\n"
     ]
    }
   ],
   "source": [
    "import numpy as np\n",
    "import array\n",
    "\n",
    "# Example 2D numpy array\n",
    "numpy_array = np.array([[1, 2, 3], [4, 5, 6]])\n",
    "\n",
    "# Flatten the array\n",
    "flattened_array = numpy_array.flatten()\n",
    "\n",
    "# Convert to Python array - assuming the numpy array is of type int\n",
    "python_array = array.array('i', flattened_array)\n",
    "\n",
    "# Now you can pass 'python_array' to your C function\n",
    "print(python_array)"
   ]
  },
  {
   "cell_type": "code",
   "execution_count": null,
   "id": "d1afc39a-5432-46a6-86ee-3b98274d7e95",
   "metadata": {},
   "outputs": [
    {
     "name": "stdout",
     "output_type": "stream",
     "text": [
      "metalcompute.Device(Apple M2)\n",
      "Calculating sin of 100000000 values\n",
      "Expected value: 1.0 Received value: 1.0\n",
      "Expected value: 1.8414709568023682 Received value: 1.8414709568023682\n",
      "Expected value: 1.9092974662780762 Received value: 1.9092974662780762\n",
      "Expected value: 0.9735392332077026 Received value: 0.9735419154167175\n",
      "Expected value: 0.14452685415744781 Received value: 0.14449740946292877\n",
      "Expected value: 0.10203251987695694 Received value: 0.10204171389341354\n"
     ]
    }
   ],
   "source": [
    "from time import time as now\n",
    "from array import array\n",
    "import math\n",
    "\n",
    "import metalcompute as mc\n",
    "\n",
    "# threads_per_threadgroup seems to be 1024.\n",
    "kernel = \"\"\"\n",
    "#include <metal_stdlib>\n",
    "using namespace metal;\n",
    "\n",
    "kernel void test(const device float *in,// [[ buffer(0) ]],\n",
    "                const device float* in2 [[ buffer(1) ]],\n",
    "                device float  *out [[ buffer(2) ]],\n",
    "                uint lid [[ thread_position_in_threadgroup ]],\n",
    "                uint gid [[ threadgroup_position_in_grid ]],\n",
    "                uint num_threads [[threads_per_threadgroup]]\n",
    "                ) {\n",
    "    int i = gid * num_threads + lid;\n",
    "    float value = in[i];\n",
    "    float fixed = in2[0];\n",
    "    out[i] = sin(value) + fixed;\n",
    "}\n",
    "\"\"\"\n",
    "\n",
    "dev = mc.Device()\n",
    "print(dev)\n",
    "\n",
    "# count = 7234567\n",
    "# arr = range(count)\n",
    "arr = list(range(1000)) * 100000\n",
    "count = len(arr)\n",
    "in_buf = array('f',arr) # Can use as-is for input\n",
    "constant = array('f',[1.0]) # Can use as-is for input\n",
    "out_buf = dev.buffer(count*4)\n",
    "out_buf_mv = memoryview(out_buf).cast('f')\n",
    "\n",
    "function_name = \"test\"\n",
    "\n",
    "# This should work\n",
    "fn_good = dev.kernel(kernel).function(function_name)\n",
    "\n",
    "print(\"Calculating sin of\",count,\"values\")\n",
    "\n",
    "s1 = now()\n",
    "# This should work. Arrays must be 1D float at the moment\n",
    "fn_good(count, in_buf, constant, out_buf)\n",
    "e1 = now()\n",
    "\n",
    "\n",
    "s2 = now()\n",
    "oref = array('f',[math.sin(value)+1.0 for value in in_buf])\n",
    "e2 = now()\n",
    "\n",
    "print(\"Expected value:\",oref[0], \"Received value:\",out_buf_mv[0])\n",
    "print(\"Expected value:\",oref[1], \"Received value:\",out_buf_mv[1])\n",
    "print(\"Expected value:\",oref[2], \"Received value:\",out_buf_mv[2])\n",
    "print(\"Expected value:\",oref[-1], \"Received value:\",out_buf_mv[-1])\n",
    "print(\"Expected value:\",oref[-2], \"Received value:\",out_buf_mv[-2])\n",
    "print(\"Expected value:\",oref[-3], \"Received value:\",out_buf_mv[-3])\n",
    "# same = 0\n",
    "# for i in range(count):\n",
    "#     if -0.001 < oref[i] - out_buf_mv[i] < 0.001:\n",
    "#         # print(i)\n",
    "#         same +=1 \n",
    "#         pass\n",
    "print(\"same\", same)\n",
    "print(\"Metal compute took:\",e1-s1,\"s\")\n",
    "print(\"Reference compute took:\",e2-s2,\"s\")"
   ]
  },
  {
   "cell_type": "code",
   "execution_count": 3,
   "id": "a1c05cc9-160c-47d8-9515-d868b77d417a",
   "metadata": {},
   "outputs": [],
   "source": [
    "# let's do a matmul.\n",
    "\n"
   ]
  }
 ],
 "metadata": {
  "kernelspec": {
   "display_name": "Python 3 (ipykernel)",
   "language": "python",
   "name": "python3"
  },
  "language_info": {
   "codemirror_mode": {
    "name": "ipython",
    "version": 3
   },
   "file_extension": ".py",
   "mimetype": "text/x-python",
   "name": "python",
   "nbconvert_exporter": "python",
   "pygments_lexer": "ipython3",
   "version": "3.11.5"
  }
 },
 "nbformat": 4,
 "nbformat_minor": 5
}
